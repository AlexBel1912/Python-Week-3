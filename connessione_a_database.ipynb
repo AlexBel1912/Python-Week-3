{
 "cells": [
  {
   "cell_type": "code",
   "execution_count": 25,
   "id": "e693ffeb-e7f3-4576-95a4-9ce135c6801f",
   "metadata": {},
   "outputs": [
    {
     "name": "stdout",
     "output_type": "stream",
     "text": [
      "username e uguale a: studente_dapt\n",
      "sono collegato al database!\n"
     ]
    }
   ],
   "source": [
    "import os\n",
    "import dotenv\n",
    "import sqlalchemy\n",
    "import pandas as pd\n",
    "\n",
    "#carico il file di configurazione\n",
    "#dotenv.load_dotenv(\"config_env.txt\")\n",
    "dotenv.load_dotenv(override = True, dotenv_path = \"config_env.txt\") #caricamento del file .env\n",
    "\n",
    "#recupero i dati al suo interno e li inserisco dentro le variabile nello script\n",
    "username = os.getenv(\"username\")\n",
    "password = os.getenv(\"password\")\n",
    "host = os.getenv(\"host\")\n",
    "dbname = os.getenv(\"dbname\")\n",
    "\n",
    "print(\"username e uguale a:\", username)\n",
    "\n",
    "#costruire la conessione (stringa)\n",
    "connection_string = f\"mysql+pymysql://{username}:{password}@{host}/{dbname}\"\n",
    "\n",
    "try:\n",
    "    #provo a creare un motore di connessione\n",
    "    db_engine = sqlalchemy.create_engine(connection_string)\n",
    "    #mi provo a collegare al database\n",
    "    print(\"sono collegato al database!\")\n",
    " \n",
    "\n",
    "except Exception as e:\n",
    "    # se non ci riesco lancio un eccezione \n",
    "    print(\"Errore di connessione al db\")"
   ]
  },
  {
   "cell_type": "code",
   "execution_count": null,
   "id": "c7810c18-546c-4e13-bd47-66744bd9ea5b",
   "metadata": {},
   "outputs": [],
   "source": []
  }
 ],
 "metadata": {
  "kernelspec": {
   "display_name": "Python [conda env:base] *",
   "language": "python",
   "name": "conda-base-py"
  },
  "language_info": {
   "codemirror_mode": {
    "name": "ipython",
    "version": 3
   },
   "file_extension": ".py",
   "mimetype": "text/x-python",
   "name": "python",
   "nbconvert_exporter": "python",
   "pygments_lexer": "ipython3",
   "version": "3.12.7"
  }
 },
 "nbformat": 4,
 "nbformat_minor": 5
}
