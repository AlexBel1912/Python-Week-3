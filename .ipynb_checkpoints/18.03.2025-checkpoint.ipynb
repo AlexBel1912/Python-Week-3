{
 "cells": [
  {
   "cell_type": "code",
   "execution_count": 4,
   "id": "ee7a6891-f1c9-4919-a18e-08b334a34b7c",
   "metadata": {},
   "outputs": [],
   "source": [
    "import math"
   ]
  },
  {
   "cell_type": "code",
   "execution_count": 6,
   "id": "c3ed736b-6cc6-47b9-af3e-f8fcdd1408d0",
   "metadata": {},
   "outputs": [
    {
     "data": {
      "text/plain": [
       "-0.9999987317275395"
      ]
     },
     "execution_count": 6,
     "metadata": {},
     "output_type": "execute_result"
    }
   ],
   "source": [
    "math.cos(3.14)"
   ]
  },
  {
   "cell_type": "code",
   "execution_count": 8,
   "id": "ed0668bf-bfca-4216-b035-f3bd1b30adf7",
   "metadata": {},
   "outputs": [
    {
     "data": {
      "text/plain": [
       "3628800"
      ]
     },
     "execution_count": 8,
     "metadata": {},
     "output_type": "execute_result"
    }
   ],
   "source": [
    "math.factorial(10)"
   ]
  },
  {
   "cell_type": "code",
   "execution_count": 10,
   "id": "ccd5cb7a-9a7c-4522-a8d4-5090fd4250f0",
   "metadata": {},
   "outputs": [
    {
     "data": {
      "text/plain": [
       "3.141592653589793"
      ]
     },
     "execution_count": 10,
     "metadata": {},
     "output_type": "execute_result"
    }
   ],
   "source": [
    "math.pi"
   ]
  },
  {
   "cell_type": "code",
   "execution_count": 12,
   "id": "5b5ed075-c7da-45b0-ae9d-63bc72215fde",
   "metadata": {},
   "outputs": [
    {
     "data": {
      "text/plain": [
       "360.0"
      ]
     },
     "execution_count": 12,
     "metadata": {},
     "output_type": "execute_result"
    }
   ],
   "source": [
    "math.degrees(2 * math.pi)"
   ]
  },
  {
   "cell_type": "code",
   "execution_count": 14,
   "id": "01e668db-e9fa-4990-905b-11c4753a9381",
   "metadata": {},
   "outputs": [
    {
     "name": "stdout",
     "output_type": "stream",
     "text": [
      "Help on built-in function degrees in module math:\n",
      "\n",
      "degrees(x, /)\n",
      "    Convert angle x from radians to degrees.\n",
      "\n"
     ]
    }
   ],
   "source": [
    "help(math.degrees)"
   ]
  },
  {
   "cell_type": "code",
   "execution_count": 15,
   "id": "13b47d3d-7165-4fc7-9f3e-67e88a28ea19",
   "metadata": {},
   "outputs": [
    {
     "name": "stdout",
     "output_type": "stream",
     "text": [
      "Help on built-in function sin in module math:\n",
      "\n",
      "sin(x, /)\n",
      "    Return the sine of x (measured in radians).\n",
      "\n"
     ]
    }
   ],
   "source": [
    "help( math.sin)"
   ]
  },
  {
   "cell_type": "code",
   "execution_count": 16,
   "id": "5735b77b-3705-4c2f-9b43-1992a18df7ee",
   "metadata": {},
   "outputs": [],
   "source": [
    "import numpy as np"
   ]
  },
  {
   "cell_type": "code",
   "execution_count": 17,
   "id": "af369e00-cffd-4a8f-aa78-4bbecae0451c",
   "metadata": {},
   "outputs": [],
   "source": [
    "mat = [[0, 1, 2, 3, 4], [5, 6, 7, 8, 9], [10, 11, 12, 13, 14]] "
   ]
  },
  {
   "cell_type": "code",
   "execution_count": 18,
   "id": "19592acb-8e6b-4e02-b791-39a66d439603",
   "metadata": {},
   "outputs": [
    {
     "data": {
      "text/plain": [
       "[[0, 1, 2, 3, 4], [5, 6, 7, 8, 9], [10, 11, 12, 13, 14]]"
      ]
     },
     "execution_count": 18,
     "metadata": {},
     "output_type": "execute_result"
    }
   ],
   "source": [
    "mat"
   ]
  },
  {
   "cell_type": "code",
   "execution_count": 19,
   "id": "481b1c4e-029a-4c57-889f-1e73946a1dc1",
   "metadata": {},
   "outputs": [],
   "source": [
    "maty = np.array(mat) #casting"
   ]
  },
  {
   "cell_type": "code",
   "execution_count": 20,
   "id": "e8ab2532-9ef3-4e17-a507-6307f98edd48",
   "metadata": {},
   "outputs": [
    {
     "data": {
      "text/plain": [
       "numpy.ndarray"
      ]
     },
     "execution_count": 20,
     "metadata": {},
     "output_type": "execute_result"
    }
   ],
   "source": [
    "type(maty)"
   ]
  },
  {
   "cell_type": "code",
   "execution_count": 21,
   "id": "6d3e357c-c30b-4962-b795-50dd6b37f983",
   "metadata": {},
   "outputs": [
    {
     "data": {
      "text/plain": [
       "array([[ 0,  1,  2,  3,  4],\n",
       "       [ 5,  6,  7,  8,  9],\n",
       "       [10, 11, 12, 13, 14]])"
      ]
     },
     "execution_count": 21,
     "metadata": {},
     "output_type": "execute_result"
    }
   ],
   "source": [
    "maty"
   ]
  },
  {
   "cell_type": "code",
   "execution_count": 22,
   "id": "b13bcf49-56a6-477f-9aaa-0d26a94991bc",
   "metadata": {},
   "outputs": [
    {
     "data": {
      "text/plain": [
       "8"
      ]
     },
     "execution_count": 22,
     "metadata": {},
     "output_type": "execute_result"
    }
   ],
   "source": [
    "int( maty[1, 3] )"
   ]
  },
  {
   "cell_type": "code",
   "execution_count": 23,
   "id": "dc549913-c572-4229-a709-76f847e2817e",
   "metadata": {},
   "outputs": [
    {
     "data": {
      "text/plain": [
       "\"Esercizio 3\\nL'azienda Object SpA ha creato una lista di quanti oggetti ha venduto ogni mese nell'ultimo anno: \\n\\nlst = [2000, 5500, 7200, 4320, 1280, 1900, 2500, 3900, 6410, 8150, 7100, 5350] \\n\\ntrasformiamola in un array NumPy (casting): \\n\\nlst = np.array(lst) \\n\\ne rispondiamo alle domande del CEO della Object SpA: \\n• qual è stata la vendita massima mensile? E quella minima? \\n• quali sono le vendite mensili maggiori di 4999 oggetti? E quante ne sono? \\n• quali sono le vendite minori di 3000 oggetti?\\n• in media quanti oggetti sono stati venduti al mese?\\n\""
      ]
     },
     "execution_count": 23,
     "metadata": {},
     "output_type": "execute_result"
    }
   ],
   "source": [
    "\"\"\"Esercizio 3\n",
    "L'azienda Object SpA ha creato una lista di quanti oggetti ha venduto ogni mese nell'ultimo anno: \n",
    "\n",
    "lst = [2000, 5500, 7200, 4320, 1280, 1900, 2500, 3900, 6410, 8150, 7100, 5350] \n",
    "\n",
    "trasformiamola in un array NumPy (casting): \n",
    "\n",
    "lst = np.array(lst) \n",
    "\n",
    "e rispondiamo alle domande del CEO della Object SpA: \n",
    "• qual è stata la vendita massima mensile? E quella minima? \n",
    "• quali sono le vendite mensili maggiori di 4999 oggetti? E quante ne sono? \n",
    "• quali sono le vendite minori di 3000 oggetti?\n",
    "• in media quanti oggetti sono stati venduti al mese?\n",
    "\"\"\""
   ]
  },
  {
   "cell_type": "code",
   "execution_count": 24,
   "id": "9262e7ab-3cd1-480d-9f51-1ce532bd65ba",
   "metadata": {},
   "outputs": [],
   "source": [
    "lst = [2000, 5500, 7200, 4320, 1280, 1900, 2500, 3900, 6410, 8150, 7100, 5350] \n",
    "lst = np.array(lst)"
   ]
  },
  {
   "cell_type": "code",
   "execution_count": 25,
   "id": "17b9b3b1-5d29-4767-bc4f-466508806ad6",
   "metadata": {},
   "outputs": [
    {
     "data": {
      "text/plain": [
       "numpy.ndarray"
      ]
     },
     "execution_count": 25,
     "metadata": {},
     "output_type": "execute_result"
    }
   ],
   "source": [
    "type(lst)"
   ]
  },
  {
   "cell_type": "code",
   "execution_count": 26,
   "id": "af1f84fb-82a1-4431-a3a9-de96573a7ea9",
   "metadata": {},
   "outputs": [
    {
     "data": {
      "text/plain": [
       "8150"
      ]
     },
     "execution_count": 26,
     "metadata": {},
     "output_type": "execute_result"
    }
   ],
   "source": [
    "lst.max() #vendita massima mensile"
   ]
  },
  {
   "cell_type": "code",
   "execution_count": 35,
   "id": "19fc46d5-ce1d-4fcf-a615-864dcc873f00",
   "metadata": {},
   "outputs": [
    {
     "data": {
      "text/plain": [
       "1280"
      ]
     },
     "execution_count": 35,
     "metadata": {},
     "output_type": "execute_result"
    }
   ],
   "source": [
    "lst.min() #vendita minima"
   ]
  },
  {
   "cell_type": "code",
   "execution_count": 36,
   "id": "e56fa7b4-a5af-4173-b81d-32578907c937",
   "metadata": {},
   "outputs": [
    {
     "data": {
      "text/plain": [
       "array([5500, 7200, 6410, 8150, 7100, 5350])"
      ]
     },
     "execution_count": 36,
     "metadata": {},
     "output_type": "execute_result"
    }
   ],
   "source": [
    "filtro = lst > 4999\n",
    "lst[filtro]"
   ]
  },
  {
   "cell_type": "code",
   "execution_count": 37,
   "id": "b93ed610-dd9b-4a65-a57b-b6379d7d721d",
   "metadata": {},
   "outputs": [],
   "source": [
    "numeri = [1, 2, 5, 10, 20]"
   ]
  },
  {
   "cell_type": "code",
   "execution_count": 43,
   "id": "d867c974-7dc0-4c52-ae3b-7495293f2bb4",
   "metadata": {},
   "outputs": [
    {
     "data": {
      "text/plain": [
       "[1, 2, 5, 10, 20, 1, 2, 5, 10, 20]"
      ]
     },
     "execution_count": 43,
     "metadata": {},
     "output_type": "execute_result"
    }
   ],
   "source": [
    "numeri * 2"
   ]
  },
  {
   "cell_type": "code",
   "execution_count": 44,
   "id": "b0dd2009-82f5-45e2-ac14-31861ac4a435",
   "metadata": {},
   "outputs": [
    {
     "data": {
      "text/plain": [
       "'abcabcabc'"
      ]
     },
     "execution_count": 44,
     "metadata": {},
     "output_type": "execute_result"
    }
   ],
   "source": [
    "\"abc\" *3"
   ]
  },
  {
   "cell_type": "code",
   "execution_count": 48,
   "id": "0e3de087-f172-43df-b5b4-25a18e60c5d9",
   "metadata": {},
   "outputs": [
    {
     "ename": "TypeError",
     "evalue": "unsupported operand type(s) for /: 'list' and 'int'",
     "output_type": "error",
     "traceback": [
      "\u001b[1;31m---------------------------------------------------------------------------\u001b[0m",
      "\u001b[1;31mTypeError\u001b[0m                                 Traceback (most recent call last)",
      "Cell \u001b[1;32mIn[48], line 1\u001b[0m\n\u001b[1;32m----> 1\u001b[0m numeri \u001b[38;5;241m/\u001b[39m \u001b[38;5;241m2\u001b[39m\n",
      "\u001b[1;31mTypeError\u001b[0m: unsupported operand type(s) for /: 'list' and 'int'"
     ]
    }
   ],
   "source": [
    "numeri / 2"
   ]
  },
  {
   "cell_type": "code",
   "execution_count": 66,
   "id": "100c1e3f-c06e-471e-b84a-921db5fb775d",
   "metadata": {},
   "outputs": [],
   "source": [
    "numery = np.array(numeri)"
   ]
  },
  {
   "cell_type": "code",
   "execution_count": 68,
   "id": "f375f2b9-c5e4-49c8-87fd-10632f9b58f0",
   "metadata": {},
   "outputs": [
    {
     "data": {
      "text/plain": [
       "array([ 0.5,  1. ,  2.5,  5. , 10. ])"
      ]
     },
     "execution_count": 68,
     "metadata": {},
     "output_type": "execute_result"
    }
   ],
   "source": [
    "numery / 2"
   ]
  },
  {
   "cell_type": "code",
   "execution_count": 70,
   "id": "f87949ad-310d-48c4-a079-b6944a48e74a",
   "metadata": {},
   "outputs": [
    {
     "data": {
      "text/plain": [
       "array([ 2,  4, 10, 20, 40])"
      ]
     },
     "execution_count": 70,
     "metadata": {},
     "output_type": "execute_result"
    }
   ],
   "source": [
    "numery * 2"
   ]
  },
  {
   "cell_type": "code",
   "execution_count": 72,
   "id": "c27e7830-ae74-46b3-ac1c-aa414402e878",
   "metadata": {},
   "outputs": [
    {
     "data": {
      "text/plain": [
       "array([ 1,  2,  5, 10, 20])"
      ]
     },
     "execution_count": 72,
     "metadata": {},
     "output_type": "execute_result"
    }
   ],
   "source": [
    "numery"
   ]
  },
  {
   "cell_type": "code",
   "execution_count": 74,
   "id": "ca977271-a692-4149-b6e9-fcc9a3c42929",
   "metadata": {},
   "outputs": [
    {
     "data": {
      "text/plain": [
       "array([         1,       1024,    9765625, 1410065408,  797966336],\n",
       "      dtype=int32)"
      ]
     },
     "execution_count": 74,
     "metadata": {},
     "output_type": "execute_result"
    }
   ],
   "source": [
    "numery ** 10"
   ]
  },
  {
   "cell_type": "markdown",
   "id": "32a40000-6c91-4c42-ab42-fd5751985179",
   "metadata": {},
   "source": [
    "numery + 1000"
   ]
  },
  {
   "cell_type": "code",
   "execution_count": 77,
   "id": "89a1d1b6-c3b0-4cef-b779-a76e6650c4d3",
   "metadata": {},
   "outputs": [
    {
     "data": {
      "text/plain": [
       "array([False, False, False,  True,  True])"
      ]
     },
     "execution_count": 77,
     "metadata": {},
     "output_type": "execute_result"
    }
   ],
   "source": [
    "numery > 5"
   ]
  },
  {
   "cell_type": "code",
   "execution_count": 58,
   "id": "e357da68-e967-4a45-84ab-cdef19ec73f3",
   "metadata": {},
   "outputs": [
    {
     "data": {
      "text/plain": [
       "array([False,  True,  True, False, False, False, False, False,  True,\n",
       "        True,  True,  True])"
      ]
     },
     "execution_count": 58,
     "metadata": {},
     "output_type": "execute_result"
    }
   ],
   "source": [
    "filtro"
   ]
  },
  {
   "cell_type": "code",
   "execution_count": 60,
   "id": "73f0b441-1d83-47d0-9ce7-01671945eb05",
   "metadata": {},
   "outputs": [
    {
     "data": {
      "text/plain": [
       "array([2000, 5500, 7200, 4320, 1280, 1900, 2500, 3900, 6410, 8150, 7100,\n",
       "       5350])"
      ]
     },
     "execution_count": 60,
     "metadata": {},
     "output_type": "execute_result"
    }
   ],
   "source": [
    "lst"
   ]
  },
  {
   "cell_type": "code",
   "execution_count": 62,
   "id": "d8f12317-4b78-4d0f-befc-6eca7679344d",
   "metadata": {},
   "outputs": [
    {
     "data": {
      "text/plain": [
       "7200"
      ]
     },
     "execution_count": 62,
     "metadata": {},
     "output_type": "execute_result"
    }
   ],
   "source": [
    "lst[2]"
   ]
  },
  {
   "cell_type": "code",
   "execution_count": 64,
   "id": "0e1a4fa5-bffb-48f7-acc2-35e9893f27e0",
   "metadata": {},
   "outputs": [
    {
     "data": {
      "text/plain": [
       "array([5500, 7200, 6410, 8150, 7100, 5350])"
      ]
     },
     "execution_count": 64,
     "metadata": {},
     "output_type": "execute_result"
    }
   ],
   "source": [
    "lst[filtro]"
   ]
  },
  {
   "cell_type": "code",
   "execution_count": 80,
   "id": "da7ef811-d36d-4888-ae05-0f5342696537",
   "metadata": {
    "scrolled": true
   },
   "outputs": [
    {
     "data": {
      "text/plain": [
       "array([5500, 7200, 4320, 3900, 6410, 8150, 7100, 5350])"
      ]
     },
     "execution_count": 80,
     "metadata": {},
     "output_type": "execute_result"
    }
   ],
   "source": [
    "filtro = lst > 3000\n",
    "lst[filtro]"
   ]
  },
  {
   "cell_type": "raw",
   "id": "308f4cd8-6702-4106-ad92-99d92b46afe6",
   "metadata": {},
   "source": [
    "filtro = lst > 4999\n",
    "lst_over_4999 = lst[filtro]\n",
    "len(lst_over_4999)"
   ]
  },
  {
   "cell_type": "markdown",
   "id": "b50c74ec-c399-4c25-b748-8fbc6f690913",
   "metadata": {},
   "source": [
    "np.sum(filtro)"
   ]
  },
  {
   "cell_type": "code",
   "execution_count": 86,
   "id": "6424ce7c-b1ff-4bc2-870b-e47d6fac379e",
   "metadata": {},
   "outputs": [
    {
     "data": {
      "text/plain": [
       "4634.166666666667"
      ]
     },
     "execution_count": 86,
     "metadata": {},
     "output_type": "execute_result"
    }
   ],
   "source": [
    "lst.mean()"
   ]
  },
  {
   "cell_type": "code",
   "execution_count": 88,
   "id": "168cb561-ad58-43e5-8f9b-af3d505e4c94",
   "metadata": {},
   "outputs": [
    {
     "data": {
      "text/plain": [
       "array([2000, 5500, 7200, 4320, 1280, 1900, 2500, 3900, 6410, 8150, 7100,\n",
       "       5350])"
      ]
     },
     "execution_count": 88,
     "metadata": {},
     "output_type": "execute_result"
    }
   ],
   "source": [
    "lst"
   ]
  },
  {
   "cell_type": "code",
   "execution_count": 92,
   "id": "403e841d-0ecd-4436-bee6-f14b174e66e3",
   "metadata": {},
   "outputs": [],
   "source": [
    "import pandas as pd"
   ]
  },
  {
   "cell_type": "code",
   "execution_count": 94,
   "id": "e6ff1834-d10a-49c7-84c8-6228655e0543",
   "metadata": {},
   "outputs": [],
   "source": [
    "fatturati_dict = {1997: 12_000, 1998: 15_000, 1999: 20_000, 2000: 23_000, 2001: 25_000, 2002: 17_000, 2003: 14_000, 2004: 21_000} \n",
    "fatturati_series = pd.Series([12_000, 15_000, 20_000, 23_000, 25_000, 17_000, 14_000, 21_000], index=range(1997, 2005)) \n"
   ]
  },
  {
   "cell_type": "code",
   "execution_count": 98,
   "id": "ed4d4d5f-6da8-48b8-bcb8-287311ff9cb1",
   "metadata": {},
   "outputs": [
    {
     "data": {
      "text/plain": [
       "{1997: 12000,\n",
       " 1998: 15000,\n",
       " 1999: 20000,\n",
       " 2000: 23000,\n",
       " 2001: 25000,\n",
       " 2002: 17000,\n",
       " 2003: 14000,\n",
       " 2004: 21000}"
      ]
     },
     "execution_count": 98,
     "metadata": {},
     "output_type": "execute_result"
    }
   ],
   "source": [
    "fatturati_dict"
   ]
  },
  {
   "cell_type": "raw",
   "id": "e4d6c913-21af-4702-8992-b416caeceae5",
   "metadata": {},
   "source": [
    "fatturati_series"
   ]
  },
  {
   "cell_type": "code",
   "execution_count": 100,
   "id": "1c2a6ee6-5cd8-454c-9de4-7335d58bb8e8",
   "metadata": {},
   "outputs": [
    {
     "data": {
      "text/plain": [
       "1998    15000\n",
       "1999    20000\n",
       "2000    23000\n",
       "dtype: int64"
      ]
     },
     "execution_count": 100,
     "metadata": {},
     "output_type": "execute_result"
    }
   ],
   "source": [
    "fatturati_series[1:4]"
   ]
  },
  {
   "cell_type": "code",
   "execution_count": 102,
   "id": "b83d8bdc-3ff3-4bd8-8aed-f2687abff617",
   "metadata": {},
   "outputs": [
    {
     "data": {
      "text/plain": [
       "18375.0"
      ]
     },
     "execution_count": 102,
     "metadata": {},
     "output_type": "execute_result"
    }
   ],
   "source": [
    "fatturati_series.mean()"
   ]
  },
  {
   "cell_type": "code",
   "execution_count": 105,
   "id": "f5a469f7-916d-4ac0-baf0-5a2e5f499612",
   "metadata": {},
   "outputs": [],
   "source": [
    "import numpy as np \n",
    "stipendi = np.array( [100, 200, 300, 400, 500,  600, 700, 800, 900, 1000] ) "
   ]
  },
  {
   "cell_type": "code",
   "execution_count": 108,
   "id": "ccf9f9d7-b266-4b85-a208-a61aff2ce37f",
   "metadata": {},
   "outputs": [
    {
     "name": "stdout",
     "output_type": "stream",
     "text": [
      "100\n",
      "200\n",
      "300\n",
      "400\n",
      "500\n",
      "600\n",
      "700\n",
      "800\n",
      "900\n",
      "1000\n"
     ]
    }
   ],
   "source": [
    "nuovi_stipendi = []\n",
    "for stipendio in stipendi:\n",
    "    print(stipendio)"
   ]
  },
  {
   "cell_type": "code",
   "execution_count": 112,
   "id": "58e5749e-0bd0-45e8-9f2e-5ad5826c368e",
   "metadata": {},
   "outputs": [
    {
     "name": "stdout",
     "output_type": "stream",
     "text": [
      "[200, 400, 600, 800, 1000, 1200, 1400, 1600, 1800, 2000]\n"
     ]
    }
   ],
   "source": [
    "nuovi_stipendi = []\n",
    "for stipendio in stipendi:\n",
    "    nuovo_stipendio = stipendio * 2\n",
    "    nuovo_stipendio = int(nuovo_stipendio)\n",
    "    nuovi_stipendi.append(nuovo_stipendio)\n",
    "print(nuovi_stipendi)"
   ]
  },
  {
   "cell_type": "code",
   "execution_count": 114,
   "id": "09e045fb-c51d-417c-8aab-565ba4e3aa16",
   "metadata": {},
   "outputs": [
    {
     "name": "stdout",
     "output_type": "stream",
     "text": [
      "[ 200  400  600  800 1000 1200 1400 1600 1800 2000]\n"
     ]
    }
   ],
   "source": [
    "nuovi_stipendi = stipendi * 2\n",
    "print(nuovi_stipendi)"
   ]
  },
  {
   "cell_type": "code",
   "execution_count": null,
   "id": "dfac1093-8bd3-4427-9678-6e4acd84c193",
   "metadata": {},
   "outputs": [],
   "source": []
  }
 ],
 "metadata": {
  "kernelspec": {
   "display_name": "Python [conda env:base] *",
   "language": "python",
   "name": "conda-base-py"
  },
  "language_info": {
   "codemirror_mode": {
    "name": "ipython",
    "version": 3
   },
   "file_extension": ".py",
   "mimetype": "text/x-python",
   "name": "python",
   "nbconvert_exporter": "python",
   "pygments_lexer": "ipython3",
   "version": "3.12.7"
  }
 },
 "nbformat": 4,
 "nbformat_minor": 5
}
