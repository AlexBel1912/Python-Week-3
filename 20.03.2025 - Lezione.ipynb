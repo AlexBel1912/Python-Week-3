{
 "cells": [
  {
   "cell_type": "code",
   "execution_count": 4,
   "id": "28de3a6d-2488-42f0-80b3-e603b5d7389a",
   "metadata": {},
   "outputs": [],
   "source": [
    "import pandas as pd\n",
    "url = \"https://raw.githubusercontent.com/mwaskom/seaborn-data/refs/heads/master/iris.csv\" \n",
    "iris = pd.read_csv(url) \n",
    "iris_statistics = iris.describe() \n",
    "\n",
    "# Salva il DataFrame in formato CSV \n",
    "iris_statistics.to_csv(\"iris_describe.csv\", index=None) \n",
    "\n",
    "# Salva il DataFrame in formato Excel \n",
    "iris_statistics.to_excel(\"iris_describe.xlsx\", sheet_name=\"statistics\")"
   ]
  },
  {
   "cell_type": "code",
   "execution_count": null,
   "id": "e0235770-b499-4e5e-b994-313830490c64",
   "metadata": {},
   "outputs": [],
   "source": []
  }
 ],
 "metadata": {
  "kernelspec": {
   "display_name": "Python [conda env:base] *",
   "language": "python",
   "name": "conda-base-py"
  },
  "language_info": {
   "codemirror_mode": {
    "name": "ipython",
    "version": 3
   },
   "file_extension": ".py",
   "mimetype": "text/x-python",
   "name": "python",
   "nbconvert_exporter": "python",
   "pygments_lexer": "ipython3",
   "version": "3.12.7"
  }
 },
 "nbformat": 4,
 "nbformat_minor": 5
}
